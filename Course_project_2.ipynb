{
 "cells": [
  {
   "cell_type": "markdown",
   "metadata": {},
   "source": [
    "# Курсовой проект\n",
    "### Постановка задачи\n",
    "**Задача**\n",
    "\n",
    "Требуется, на основании имеющихся данных о клиентах банка, построить модель, используя обучающий датасет, для прогнозирования невыполнения долговых обязательств по текущему кредиту. Выполнить прогноз для примеров из тестового датасета.\n",
    "\n",
    "**Наименование файлов с данными**\n",
    "\n",
    "course_project_train.csv - обучающий датасет\n",
    "course_project_test.csv - тестовый датасет\n",
    "\n",
    "**Целевая переменная**\n",
    "\n",
    "Credit Default - факт невыполнения кредитных обязательств\n",
    "\n",
    "**Метрика качества**\n",
    "\n",
    "F1-score (sklearn.metrics.f1_score)\n",
    "\n",
    "**Требования к решению**\n",
    "\n",
    "**Целевая метрика**\n",
    "\n",
    "F1 > 0.5\n",
    "Метрика оценивается по качеству прогноза для главного класса (1 - просрочка по кредиту)\n",
    "\n",
    "Решение должно содержать:\n",
    "\n",
    "- Тетрадка Jupyter Notebook с кодом Вашего решения, названная по образцу {ФИО}_solution.ipynb, пример SShirkin_solution.ipynb\n",
    "- Файл CSV с прогнозами целевой переменной для тестового датасета, названный по образцу {ФИО}_predictions.csv, пример SShirkin_predictions.csv\n",
    "- Рекомендации для файла с кодом (ipynb)\n",
    "- Файл должен содержать заголовки и комментарии (markdown)\n",
    "- Повторяющиеся операции лучше оформлять в виде функций\n",
    "- Не делать вывод большого количества строк таблиц (5-10 достаточно)\n",
    "- По возможности добавлять графики, описывающие данные (около 3-5)\n",
    "- Добавлять только лучшую модель, то есть не включать в код все варианты решения проекта\n",
    "- Скрипт проекта должен отрабатывать от начала и до конца (от загрузки данных до выгрузки предсказаний)\n",
    "- Весь проект должен быть в одном скрипте (файл ipynb).\n",
    "- Допускается применение библиотек Python и моделей машинного обучения, которые были в данном курсе."
   ]
  },
  {
   "cell_type": "markdown",
   "metadata": {},
   "source": [
    "#### Примерное описание этапов выполнения курсового проекта\n",
    "#### Построение модели классификации\n",
    "\n",
    "- Обзор обучающего датасета\n",
    "- Обработка выбросов\n",
    "- Обработка пропусков\n",
    "- Анализ данных\n",
    "- Отбор признаков\n",
    "- Балансировка классов\n",
    "- Подбор моделей, получение бейзлана\n",
    "- Выбор наилучшей модели, настройка гиперпараметров\n",
    "- Проверка качества, борьба с переобучением\n",
    "- Интерпретация результатов\n",
    "- Прогнозирование на тестовом датасете\n",
    "\n",
    "Выполнить для тестового датасета те же этапы обработки и постронияния признаков\n",
    "- Спрогнозировать целевую переменную, используя модель, построенную на обучающем датасете\n",
    "- Прогнозы должны быть для всех примеров из тестового датасета (для всех строк)\n",
    "- Соблюдать исходный порядок примеров из тестового датасета"
   ]
  },
  {
   "cell_type": "markdown",
   "metadata": {},
   "source": [
    "### Обзор данных\n",
    "**Описание датасета**\n",
    "\n",
    "- Home Ownership - домовладение\n",
    "- Annual Income - годовой доход\n",
    "- Years in current job - количество лет на текущем месте работы\n",
    "- Tax Liens - налоговые обременения\n",
    "- Number of Open Accounts - количество открытых счетов\n",
    "- Years of Credit History - количество лет кредитной истории\n",
    "- Maximum Open Credit - наибольший открытый кредит\n",
    "- Number of Credit Problems - количество проблем с кредитом\n",
    "- Months since last delinquent - количество месяцев с последней просрочки платежа\n",
    "- Bankruptcies - банкротства\n",
    "- Purpose - цель кредита\n",
    "- Term - срок кредита\n",
    "- Current Loan Amount - текущая сумма кредита\n",
    "- Current Credit Balance - текущий кредитный баланс\n",
    "- Monthly Debt - ежемесячный долг\n",
    "- Credit Default - факт невыполнения кредитных обязательств (0 - погашен вовремя, 1 - просрочка)"
   ]
  },
  {
   "cell_type": "markdown",
   "metadata": {},
   "source": [
    "#### Импорт библиотек"
   ]
  },
  {
   "cell_type": "code",
   "execution_count": 1,
   "metadata": {},
   "outputs": [
    {
     "name": "stderr",
     "output_type": "stream",
     "text": [
      "C:\\Users\\lenas\\Anaconda3\\lib\\site-packages\\statsmodels\\tools\\_testing.py:19: FutureWarning: pandas.util.testing is deprecated. Use the functions in the public API at pandas.testing instead.\n",
      "  import pandas.util.testing as tm\n"
     ]
    }
   ],
   "source": [
    "import pandas as pd\n",
    "import numpy as np\n",
    "import pickle\n",
    "import random\n",
    "\n",
    "from sklearn.preprocessing import StandardScaler, MinMaxScaler\n",
    "from sklearn.model_selection import train_test_split, ShuffleSplit, cross_val_score, learning_curve, GridSearchCV\n",
    "from sklearn.model_selection import KFold, GridSearchCV, RandomizedSearchCV\n",
    "from sklearn.metrics import classification_report, f1_score, precision_score, recall_score, make_scorer\n",
    "from sklearn.preprocessing import OneHotEncoder, LabelEncoder\n",
    "\n",
    "from sklearn.linear_model import LogisticRegression\n",
    "from sklearn.neighbors import KNeighborsClassifier\n",
    "import xgboost as xgb \n",
    "import lightgbm as lgbm \n",
    "import catboost as catb\n",
    "\n",
    "import seaborn as sns\n",
    "from matplotlib import pyplot as plt\n",
    "%matplotlib inline\n",
    "\n",
    "from imblearn.over_sampling import SMOTE"
   ]
  },
  {
   "cell_type": "markdown",
   "metadata": {},
   "source": [
    "### Загрузка и обзор тренировочного и тестового датасетов"
   ]
  },
  {
   "cell_type": "code",
   "execution_count": 2,
   "metadata": {},
   "outputs": [
    {
     "name": "stdout",
     "output_type": "stream",
     "text": [
      "DataSet Info\n",
      "============================================================\n",
      "<class 'pandas.core.frame.DataFrame'>\n",
      "RangeIndex: 7500 entries, 0 to 7499\n",
      "Data columns (total 17 columns):\n",
      " #   Column                        Non-Null Count  Dtype  \n",
      "---  ------                        --------------  -----  \n",
      " 0   Home Ownership                7500 non-null   object \n",
      " 1   Annual Income                 5943 non-null   float64\n",
      " 2   Years in current job          7129 non-null   object \n",
      " 3   Tax Liens                     7500 non-null   float64\n",
      " 4   Number of Open Accounts       7500 non-null   float64\n",
      " 5   Years of Credit History       7500 non-null   float64\n",
      " 6   Maximum Open Credit           7500 non-null   float64\n",
      " 7   Number of Credit Problems     7500 non-null   float64\n",
      " 8   Months since last delinquent  3419 non-null   float64\n",
      " 9   Bankruptcies                  7486 non-null   float64\n",
      " 10  Purpose                       7500 non-null   object \n",
      " 11  Term                          7500 non-null   object \n",
      " 12  Current Loan Amount           7500 non-null   float64\n",
      " 13  Current Credit Balance        7500 non-null   float64\n",
      " 14  Monthly Debt                  7500 non-null   float64\n",
      " 15  Credit Score                  5943 non-null   float64\n",
      " 16  Credit Default                7500 non-null   int64  \n",
      "dtypes: float64(12), int64(1), object(4)\n",
      "memory usage: 996.2+ KB\n",
      "None\n",
      "============================================================\n",
      "============================================================\n",
      "============================================================\n",
      "DataSet Stats\n",
      "============================================================\n",
      "       Annual Income    Tax Liens  Number of Open Accounts  \\\n",
      "count   5.943000e+03  7500.000000              7500.000000   \n",
      "mean    1.366392e+06     0.030133                11.130933   \n",
      "std     8.453392e+05     0.271604                 4.908924   \n",
      "min     1.645970e+05     0.000000                 2.000000   \n",
      "25%     8.443410e+05     0.000000                 8.000000   \n",
      "50%     1.168386e+06     0.000000                10.000000   \n",
      "75%     1.640137e+06     0.000000                14.000000   \n",
      "max     1.014934e+07     7.000000                43.000000   \n",
      "\n",
      "       Years of Credit History  Maximum Open Credit  \\\n",
      "count              7500.000000         7.500000e+03   \n",
      "mean                 18.317467         9.451537e+05   \n",
      "std                   7.041946         1.602622e+07   \n",
      "min                   4.000000         0.000000e+00   \n",
      "25%                  13.500000         2.792295e+05   \n",
      "50%                  17.000000         4.781590e+05   \n",
      "75%                  21.800000         7.935015e+05   \n",
      "max                  57.700000         1.304726e+09   \n",
      "\n",
      "       Number of Credit Problems  Months since last delinquent  Bankruptcies  \\\n",
      "count                7500.000000                   3419.000000   7486.000000   \n",
      "mean                    0.170000                     34.692600      0.117152   \n",
      "std                     0.498598                     21.688806      0.347192   \n",
      "min                     0.000000                      0.000000      0.000000   \n",
      "25%                     0.000000                     16.000000      0.000000   \n",
      "50%                     0.000000                     32.000000      0.000000   \n",
      "75%                     0.000000                     50.000000      0.000000   \n",
      "max                     7.000000                    118.000000      4.000000   \n",
      "\n",
      "       Current Loan Amount  Current Credit Balance   Monthly Debt  \\\n",
      "count         7.500000e+03            7.500000e+03    7500.000000   \n",
      "mean          1.187318e+07            2.898332e+05   18314.454133   \n",
      "std           3.192612e+07            3.178714e+05   11926.764673   \n",
      "min           1.124200e+04            0.000000e+00       0.000000   \n",
      "25%           1.801690e+05            1.142565e+05   10067.500000   \n",
      "50%           3.095730e+05            2.093230e+05   16076.500000   \n",
      "75%           5.198820e+05            3.604062e+05   23818.000000   \n",
      "max           1.000000e+08            6.506797e+06  136679.000000   \n",
      "\n",
      "       Credit Score  Credit Default  \n",
      "count   5943.000000     7500.000000  \n",
      "mean    1151.087498        0.281733  \n",
      "std     1604.451418        0.449874  \n",
      "min      585.000000        0.000000  \n",
      "25%      711.000000        0.000000  \n",
      "50%      731.000000        0.000000  \n",
      "75%      743.000000        1.000000  \n",
      "max     7510.000000        1.000000  \n",
      "============================================================\n",
      "============================================================\n",
      "============================================================\n",
      "Missing Values\n",
      "============================================================\n",
      "Home Ownership                     0\n",
      "Annual Income                   1557\n",
      "Years in current job             371\n",
      "Tax Liens                          0\n",
      "Number of Open Accounts            0\n",
      "Years of Credit History            0\n",
      "Maximum Open Credit                0\n",
      "Number of Credit Problems          0\n",
      "Months since last delinquent    4081\n",
      "Bankruptcies                      14\n",
      "Purpose                            0\n",
      "Term                               0\n",
      "Current Loan Amount                0\n",
      "Current Credit Balance             0\n",
      "Monthly Debt                       0\n",
      "Credit Score                    1557\n",
      "Credit Default                     0\n",
      "dtype: int64\n"
     ]
    },
    {
     "data": {
      "text/html": [
       "<div>\n",
       "<style scoped>\n",
       "    .dataframe tbody tr th:only-of-type {\n",
       "        vertical-align: middle;\n",
       "    }\n",
       "\n",
       "    .dataframe tbody tr th {\n",
       "        vertical-align: top;\n",
       "    }\n",
       "\n",
       "    .dataframe thead th {\n",
       "        text-align: right;\n",
       "    }\n",
       "</style>\n",
       "<table border=\"1\" class=\"dataframe\">\n",
       "  <thead>\n",
       "    <tr style=\"text-align: right;\">\n",
       "      <th></th>\n",
       "      <th>Home Ownership</th>\n",
       "      <th>Annual Income</th>\n",
       "      <th>Years in current job</th>\n",
       "      <th>Tax Liens</th>\n",
       "      <th>Number of Open Accounts</th>\n",
       "      <th>Years of Credit History</th>\n",
       "      <th>Maximum Open Credit</th>\n",
       "      <th>Number of Credit Problems</th>\n",
       "      <th>Months since last delinquent</th>\n",
       "      <th>Bankruptcies</th>\n",
       "      <th>Purpose</th>\n",
       "      <th>Term</th>\n",
       "      <th>Current Loan Amount</th>\n",
       "      <th>Current Credit Balance</th>\n",
       "      <th>Monthly Debt</th>\n",
       "      <th>Credit Score</th>\n",
       "      <th>Credit Default</th>\n",
       "    </tr>\n",
       "  </thead>\n",
       "  <tbody>\n",
       "    <tr>\n",
       "      <th>0</th>\n",
       "      <td>Own Home</td>\n",
       "      <td>482087.0</td>\n",
       "      <td>NaN</td>\n",
       "      <td>0.0</td>\n",
       "      <td>11.0</td>\n",
       "      <td>26.3</td>\n",
       "      <td>685960.0</td>\n",
       "      <td>1.0</td>\n",
       "      <td>NaN</td>\n",
       "      <td>1.0</td>\n",
       "      <td>debt consolidation</td>\n",
       "      <td>Short Term</td>\n",
       "      <td>99999999.0</td>\n",
       "      <td>47386.0</td>\n",
       "      <td>7914.0</td>\n",
       "      <td>749.0</td>\n",
       "      <td>0</td>\n",
       "    </tr>\n",
       "    <tr>\n",
       "      <th>1</th>\n",
       "      <td>Own Home</td>\n",
       "      <td>1025487.0</td>\n",
       "      <td>10+ years</td>\n",
       "      <td>0.0</td>\n",
       "      <td>15.0</td>\n",
       "      <td>15.3</td>\n",
       "      <td>1181730.0</td>\n",
       "      <td>0.0</td>\n",
       "      <td>NaN</td>\n",
       "      <td>0.0</td>\n",
       "      <td>debt consolidation</td>\n",
       "      <td>Long Term</td>\n",
       "      <td>264968.0</td>\n",
       "      <td>394972.0</td>\n",
       "      <td>18373.0</td>\n",
       "      <td>737.0</td>\n",
       "      <td>1</td>\n",
       "    </tr>\n",
       "    <tr>\n",
       "      <th>2</th>\n",
       "      <td>Home Mortgage</td>\n",
       "      <td>751412.0</td>\n",
       "      <td>8 years</td>\n",
       "      <td>0.0</td>\n",
       "      <td>11.0</td>\n",
       "      <td>35.0</td>\n",
       "      <td>1182434.0</td>\n",
       "      <td>0.0</td>\n",
       "      <td>NaN</td>\n",
       "      <td>0.0</td>\n",
       "      <td>debt consolidation</td>\n",
       "      <td>Short Term</td>\n",
       "      <td>99999999.0</td>\n",
       "      <td>308389.0</td>\n",
       "      <td>13651.0</td>\n",
       "      <td>742.0</td>\n",
       "      <td>0</td>\n",
       "    </tr>\n",
       "    <tr>\n",
       "      <th>3</th>\n",
       "      <td>Own Home</td>\n",
       "      <td>805068.0</td>\n",
       "      <td>6 years</td>\n",
       "      <td>0.0</td>\n",
       "      <td>8.0</td>\n",
       "      <td>22.5</td>\n",
       "      <td>147400.0</td>\n",
       "      <td>1.0</td>\n",
       "      <td>NaN</td>\n",
       "      <td>1.0</td>\n",
       "      <td>debt consolidation</td>\n",
       "      <td>Short Term</td>\n",
       "      <td>121396.0</td>\n",
       "      <td>95855.0</td>\n",
       "      <td>11338.0</td>\n",
       "      <td>694.0</td>\n",
       "      <td>0</td>\n",
       "    </tr>\n",
       "    <tr>\n",
       "      <th>4</th>\n",
       "      <td>Rent</td>\n",
       "      <td>776264.0</td>\n",
       "      <td>8 years</td>\n",
       "      <td>0.0</td>\n",
       "      <td>13.0</td>\n",
       "      <td>13.6</td>\n",
       "      <td>385836.0</td>\n",
       "      <td>1.0</td>\n",
       "      <td>NaN</td>\n",
       "      <td>0.0</td>\n",
       "      <td>debt consolidation</td>\n",
       "      <td>Short Term</td>\n",
       "      <td>125840.0</td>\n",
       "      <td>93309.0</td>\n",
       "      <td>7180.0</td>\n",
       "      <td>719.0</td>\n",
       "      <td>0</td>\n",
       "    </tr>\n",
       "  </tbody>\n",
       "</table>\n",
       "</div>"
      ],
      "text/plain": [
       "  Home Ownership  Annual Income Years in current job  Tax Liens  \\\n",
       "0       Own Home       482087.0                  NaN        0.0   \n",
       "1       Own Home      1025487.0            10+ years        0.0   \n",
       "2  Home Mortgage       751412.0              8 years        0.0   \n",
       "3       Own Home       805068.0              6 years        0.0   \n",
       "4           Rent       776264.0              8 years        0.0   \n",
       "\n",
       "   Number of Open Accounts  Years of Credit History  Maximum Open Credit  \\\n",
       "0                     11.0                     26.3             685960.0   \n",
       "1                     15.0                     15.3            1181730.0   \n",
       "2                     11.0                     35.0            1182434.0   \n",
       "3                      8.0                     22.5             147400.0   \n",
       "4                     13.0                     13.6             385836.0   \n",
       "\n",
       "   Number of Credit Problems  Months since last delinquent  Bankruptcies  \\\n",
       "0                        1.0                           NaN           1.0   \n",
       "1                        0.0                           NaN           0.0   \n",
       "2                        0.0                           NaN           0.0   \n",
       "3                        1.0                           NaN           1.0   \n",
       "4                        1.0                           NaN           0.0   \n",
       "\n",
       "              Purpose        Term  Current Loan Amount  \\\n",
       "0  debt consolidation  Short Term           99999999.0   \n",
       "1  debt consolidation   Long Term             264968.0   \n",
       "2  debt consolidation  Short Term           99999999.0   \n",
       "3  debt consolidation  Short Term             121396.0   \n",
       "4  debt consolidation  Short Term             125840.0   \n",
       "\n",
       "   Current Credit Balance  Monthly Debt  Credit Score  Credit Default  \n",
       "0                 47386.0        7914.0         749.0               0  \n",
       "1                394972.0       18373.0         737.0               1  \n",
       "2                308389.0       13651.0         742.0               0  \n",
       "3                 95855.0       11338.0         694.0               0  \n",
       "4                 93309.0        7180.0         719.0               0  "
      ]
     },
     "execution_count": 2,
     "metadata": {},
     "output_type": "execute_result"
    }
   ],
   "source": [
    "# Тренировочный датасет\n",
    "\n",
    "train = pd.read_csv('course_project_train.csv')\n",
    "\n",
    "print('DataSet Info')\n",
    "print('=' * 60)\n",
    "print(train.info())\n",
    "print('=' * 60)\n",
    "print('=' * 60)\n",
    "print('=' * 60)\n",
    "\n",
    "print('DataSet Stats')\n",
    "print('=' * 60)\n",
    "print(train.describe())\n",
    "\n",
    "print('=' * 60)\n",
    "print('=' * 60)\n",
    "print('=' * 60)\n",
    "\n",
    "print('Missing Values')\n",
    "print('=' * 60)\n",
    "print(train.isna().sum())\n",
    "\n",
    "train.head()"
   ]
  },
  {
   "cell_type": "markdown",
   "metadata": {},
   "source": [
    "**Краткие выводы**\n",
    "\n",
    "Целевая переменная - Credit Default\n",
    "\n",
    "**DataSet Info:**\n",
    "\n",
    "Необходимо будет выполнить приведение типа к числовому у признака **Years in current job**\n",
    "\n",
    "Выделим предварительно категориальные признаки:\n",
    "1. Home Ownership\n",
    "2. Purpose\n",
    "3. Term\n",
    "\n",
    "**DataSet Stats:**\n",
    "\n",
    "- очень большие значение в признаках: Annual Income, Maximum Open Credit, Current Loan Amount, Current Credit Balance. Их надо проанализировать\n",
    "- вероятно будут выбросы\n",
    "\n",
    "**Missing Values:**\n",
    "\n",
    "В пяти признаках есть пропуски:\n",
    "- Annual income\n",
    "- Years in current job\n",
    "- Months since last delinquent\n",
    "- Bankruptcies \n",
    "- Credit Score "
   ]
  },
  {
   "cell_type": "code",
   "execution_count": 3,
   "metadata": {},
   "outputs": [
    {
     "name": "stdout",
     "output_type": "stream",
     "text": [
      "DataSet Info\n",
      "============================================================\n",
      "<class 'pandas.core.frame.DataFrame'>\n",
      "RangeIndex: 2500 entries, 0 to 2499\n",
      "Data columns (total 16 columns):\n",
      " #   Column                        Non-Null Count  Dtype  \n",
      "---  ------                        --------------  -----  \n",
      " 0   Home Ownership                2500 non-null   object \n",
      " 1   Annual Income                 1987 non-null   float64\n",
      " 2   Years in current job          2414 non-null   object \n",
      " 3   Tax Liens                     2500 non-null   float64\n",
      " 4   Number of Open Accounts       2500 non-null   float64\n",
      " 5   Years of Credit History       2500 non-null   float64\n",
      " 6   Maximum Open Credit           2500 non-null   float64\n",
      " 7   Number of Credit Problems     2500 non-null   float64\n",
      " 8   Months since last delinquent  1142 non-null   float64\n",
      " 9   Bankruptcies                  2497 non-null   float64\n",
      " 10  Purpose                       2500 non-null   object \n",
      " 11  Term                          2500 non-null   object \n",
      " 12  Current Loan Amount           2500 non-null   float64\n",
      " 13  Current Credit Balance        2500 non-null   float64\n",
      " 14  Monthly Debt                  2500 non-null   float64\n",
      " 15  Credit Score                  1987 non-null   float64\n",
      "dtypes: float64(12), object(4)\n",
      "memory usage: 312.6+ KB\n",
      "None\n",
      "============================================================\n",
      "============================================================\n",
      "============================================================\n",
      "DataSet Stats\n",
      "============================================================\n",
      "       Annual Income    Tax Liens  Number of Open Accounts  \\\n",
      "count   1.987000e+03  2500.000000              2500.000000   \n",
      "mean    1.366922e+06     0.035200                11.184400   \n",
      "std     9.171252e+05     0.386291                 4.852774   \n",
      "min     1.065330e+05     0.000000                 1.000000   \n",
      "25%     8.523115e+05     0.000000                 8.000000   \n",
      "50%     1.178475e+06     0.000000                10.000000   \n",
      "75%     1.629734e+06     0.000000                14.000000   \n",
      "max     1.497561e+07    15.000000                48.000000   \n",
      "\n",
      "       Years of Credit History  Maximum Open Credit  \\\n",
      "count              2500.000000         2.500000e+03   \n",
      "mean                 18.325920         7.105704e+05   \n",
      "std                   7.254659         1.511983e+06   \n",
      "min                   3.900000         0.000000e+00   \n",
      "25%                  13.400000         2.785860e+05   \n",
      "50%                  17.000000         4.786760e+05   \n",
      "75%                  22.100000         8.025985e+05   \n",
      "max                  53.400000         5.448439e+07   \n",
      "\n",
      "       Number of Credit Problems  Months since last delinquent  Bankruptcies  \\\n",
      "count                2500.000000                   1142.000000   2497.000000   \n",
      "mean                    0.162000                     34.181261      0.106928   \n",
      "std                     0.559894                     22.024277      0.357189   \n",
      "min                     0.000000                      0.000000      0.000000   \n",
      "25%                     0.000000                     16.000000      0.000000   \n",
      "50%                     0.000000                     30.000000      0.000000   \n",
      "75%                     0.000000                     50.000000      0.000000   \n",
      "max                    15.000000                     82.000000      5.000000   \n",
      "\n",
      "       Current Loan Amount  Current Credit Balance  Monthly Debt  Credit Score  \n",
      "count         2.500000e+03            2.500000e+03   2500.000000   1987.000000  \n",
      "mean          1.215572e+07            2.963966e+05  18271.340000   1234.516860  \n",
      "std           3.226097e+07            3.783020e+05  11543.881469   1740.219442  \n",
      "min           1.542200e+04            0.000000e+00     93.000000    585.000000  \n",
      "25%           1.871265e+05            1.101145e+05  10024.750000    710.000000  \n",
      "50%           3.223660e+05            2.073850e+05  16642.500000    731.000000  \n",
      "75%           5.225825e+05            3.663485e+05  24146.000000    743.000000  \n",
      "max           1.000000e+08            6.030087e+06  93555.000000   7480.000000  \n",
      "============================================================\n",
      "============================================================\n",
      "============================================================\n",
      "Missing Values\n",
      "============================================================\n",
      "Home Ownership                     0\n",
      "Annual Income                    513\n",
      "Years in current job              86\n",
      "Tax Liens                          0\n",
      "Number of Open Accounts            0\n",
      "Years of Credit History            0\n",
      "Maximum Open Credit                0\n",
      "Number of Credit Problems          0\n",
      "Months since last delinquent    1358\n",
      "Bankruptcies                       3\n",
      "Purpose                            0\n",
      "Term                               0\n",
      "Current Loan Amount                0\n",
      "Current Credit Balance             0\n",
      "Monthly Debt                       0\n",
      "Credit Score                     513\n",
      "dtype: int64\n"
     ]
    },
    {
     "data": {
      "text/html": [
       "<div>\n",
       "<style scoped>\n",
       "    .dataframe tbody tr th:only-of-type {\n",
       "        vertical-align: middle;\n",
       "    }\n",
       "\n",
       "    .dataframe tbody tr th {\n",
       "        vertical-align: top;\n",
       "    }\n",
       "\n",
       "    .dataframe thead th {\n",
       "        text-align: right;\n",
       "    }\n",
       "</style>\n",
       "<table border=\"1\" class=\"dataframe\">\n",
       "  <thead>\n",
       "    <tr style=\"text-align: right;\">\n",
       "      <th></th>\n",
       "      <th>Home Ownership</th>\n",
       "      <th>Annual Income</th>\n",
       "      <th>Years in current job</th>\n",
       "      <th>Tax Liens</th>\n",
       "      <th>Number of Open Accounts</th>\n",
       "      <th>Years of Credit History</th>\n",
       "      <th>Maximum Open Credit</th>\n",
       "      <th>Number of Credit Problems</th>\n",
       "      <th>Months since last delinquent</th>\n",
       "      <th>Bankruptcies</th>\n",
       "      <th>Purpose</th>\n",
       "      <th>Term</th>\n",
       "      <th>Current Loan Amount</th>\n",
       "      <th>Current Credit Balance</th>\n",
       "      <th>Monthly Debt</th>\n",
       "      <th>Credit Score</th>\n",
       "    </tr>\n",
       "  </thead>\n",
       "  <tbody>\n",
       "    <tr>\n",
       "      <th>0</th>\n",
       "      <td>Rent</td>\n",
       "      <td>NaN</td>\n",
       "      <td>4 years</td>\n",
       "      <td>0.0</td>\n",
       "      <td>9.0</td>\n",
       "      <td>12.5</td>\n",
       "      <td>220968.0</td>\n",
       "      <td>0.0</td>\n",
       "      <td>70.0</td>\n",
       "      <td>0.0</td>\n",
       "      <td>debt consolidation</td>\n",
       "      <td>Short Term</td>\n",
       "      <td>162470.0</td>\n",
       "      <td>105906.0</td>\n",
       "      <td>6813.0</td>\n",
       "      <td>NaN</td>\n",
       "    </tr>\n",
       "    <tr>\n",
       "      <th>1</th>\n",
       "      <td>Rent</td>\n",
       "      <td>231838.0</td>\n",
       "      <td>1 year</td>\n",
       "      <td>0.0</td>\n",
       "      <td>6.0</td>\n",
       "      <td>32.7</td>\n",
       "      <td>55946.0</td>\n",
       "      <td>0.0</td>\n",
       "      <td>8.0</td>\n",
       "      <td>0.0</td>\n",
       "      <td>educational expenses</td>\n",
       "      <td>Short Term</td>\n",
       "      <td>78298.0</td>\n",
       "      <td>46037.0</td>\n",
       "      <td>2318.0</td>\n",
       "      <td>699.0</td>\n",
       "    </tr>\n",
       "    <tr>\n",
       "      <th>2</th>\n",
       "      <td>Home Mortgage</td>\n",
       "      <td>1152540.0</td>\n",
       "      <td>3 years</td>\n",
       "      <td>0.0</td>\n",
       "      <td>10.0</td>\n",
       "      <td>13.7</td>\n",
       "      <td>204600.0</td>\n",
       "      <td>0.0</td>\n",
       "      <td>NaN</td>\n",
       "      <td>0.0</td>\n",
       "      <td>debt consolidation</td>\n",
       "      <td>Short Term</td>\n",
       "      <td>200178.0</td>\n",
       "      <td>146490.0</td>\n",
       "      <td>18729.0</td>\n",
       "      <td>7260.0</td>\n",
       "    </tr>\n",
       "    <tr>\n",
       "      <th>3</th>\n",
       "      <td>Home Mortgage</td>\n",
       "      <td>1220313.0</td>\n",
       "      <td>10+ years</td>\n",
       "      <td>0.0</td>\n",
       "      <td>16.0</td>\n",
       "      <td>17.0</td>\n",
       "      <td>456302.0</td>\n",
       "      <td>0.0</td>\n",
       "      <td>70.0</td>\n",
       "      <td>0.0</td>\n",
       "      <td>debt consolidation</td>\n",
       "      <td>Short Term</td>\n",
       "      <td>217382.0</td>\n",
       "      <td>213199.0</td>\n",
       "      <td>27559.0</td>\n",
       "      <td>739.0</td>\n",
       "    </tr>\n",
       "    <tr>\n",
       "      <th>4</th>\n",
       "      <td>Home Mortgage</td>\n",
       "      <td>2340952.0</td>\n",
       "      <td>6 years</td>\n",
       "      <td>0.0</td>\n",
       "      <td>11.0</td>\n",
       "      <td>23.6</td>\n",
       "      <td>1207272.0</td>\n",
       "      <td>0.0</td>\n",
       "      <td>NaN</td>\n",
       "      <td>0.0</td>\n",
       "      <td>debt consolidation</td>\n",
       "      <td>Long Term</td>\n",
       "      <td>777634.0</td>\n",
       "      <td>425391.0</td>\n",
       "      <td>42605.0</td>\n",
       "      <td>706.0</td>\n",
       "    </tr>\n",
       "  </tbody>\n",
       "</table>\n",
       "</div>"
      ],
      "text/plain": [
       "  Home Ownership  Annual Income Years in current job  Tax Liens  \\\n",
       "0           Rent            NaN              4 years        0.0   \n",
       "1           Rent       231838.0               1 year        0.0   \n",
       "2  Home Mortgage      1152540.0              3 years        0.0   \n",
       "3  Home Mortgage      1220313.0            10+ years        0.0   \n",
       "4  Home Mortgage      2340952.0              6 years        0.0   \n",
       "\n",
       "   Number of Open Accounts  Years of Credit History  Maximum Open Credit  \\\n",
       "0                      9.0                     12.5             220968.0   \n",
       "1                      6.0                     32.7              55946.0   \n",
       "2                     10.0                     13.7             204600.0   \n",
       "3                     16.0                     17.0             456302.0   \n",
       "4                     11.0                     23.6            1207272.0   \n",
       "\n",
       "   Number of Credit Problems  Months since last delinquent  Bankruptcies  \\\n",
       "0                        0.0                          70.0           0.0   \n",
       "1                        0.0                           8.0           0.0   \n",
       "2                        0.0                           NaN           0.0   \n",
       "3                        0.0                          70.0           0.0   \n",
       "4                        0.0                           NaN           0.0   \n",
       "\n",
       "                Purpose        Term  Current Loan Amount  \\\n",
       "0    debt consolidation  Short Term             162470.0   \n",
       "1  educational expenses  Short Term              78298.0   \n",
       "2    debt consolidation  Short Term             200178.0   \n",
       "3    debt consolidation  Short Term             217382.0   \n",
       "4    debt consolidation   Long Term             777634.0   \n",
       "\n",
       "   Current Credit Balance  Monthly Debt  Credit Score  \n",
       "0                105906.0        6813.0           NaN  \n",
       "1                 46037.0        2318.0         699.0  \n",
       "2                146490.0       18729.0        7260.0  \n",
       "3                213199.0       27559.0         739.0  \n",
       "4                425391.0       42605.0         706.0  "
      ]
     },
     "execution_count": 3,
     "metadata": {},
     "output_type": "execute_result"
    }
   ],
   "source": [
    "# Тестовый датасет\n",
    "\n",
    "test = pd.read_csv('course_project_test.csv')\n",
    "\n",
    "print('DataSet Info')\n",
    "print('=' * 60)\n",
    "print(test.info())\n",
    "print('=' * 60)\n",
    "print('=' * 60)\n",
    "print('=' * 60)\n",
    "\n",
    "print('DataSet Stats')\n",
    "print('=' * 60)\n",
    "print(test.describe())\n",
    "\n",
    "print('=' * 60)\n",
    "print('=' * 60)\n",
    "print('=' * 60)\n",
    "\n",
    "print('Missing Values')\n",
    "print('=' * 60)\n",
    "print(test.isna().sum())\n",
    "\n",
    "test.head()"
   ]
  },
  {
   "cell_type": "markdown",
   "metadata": {},
   "source": [
    "**Краткие выводы**\n",
    "\n",
    "**DataSet Info:**\n",
    "\n",
    "Необходимо будет выполнить приведение типа к числовому у признака **Years in current job**\n",
    "\n",
    "Выделим предварительно категориальные признаки (некоторые из них нужно будет привести к нужному типу object):\n",
    "1. Home Ownership\n",
    "2. Purpose\n",
    "3. Term\n",
    "\n",
    "**DataSet Stats:**\n",
    "\n",
    "- очень большие значение в признаках: Annual Income, Maximum Open Credit, Current Loan Amount, Current Credit Balance. Их надо проанализировать\n",
    "- отличные от тестового датасета данные в признаке Tax liens (возможно, это и не категориальный признак).\n",
    "- Number of Credit Problems тоже самое. Квантили везде по нулям, но максимальное значение равно 7\n",
    "- необходимо будет также обработать выбросы\n",
    "\n",
    "**Missing Values:**\n",
    "\n",
    "В пяти признаках есть пропуски:\n",
    "- Annual income\n",
    "- Years in current job\n",
    "- Months since last delinquent\n",
    "- Bankruptcies \n",
    "- Credit Score "
   ]
  },
  {
   "cell_type": "markdown",
   "metadata": {},
   "source": [
    "## ЭТАП 1. ПРЕДОБРАБОТКА ДАННЫХ"
   ]
  },
  {
   "cell_type": "markdown",
   "metadata": {},
   "source": [
    "### Приведение типов\n",
    "\n",
    "Приведем к числовому типу признак Years in current job"
   ]
  },
  {
   "cell_type": "code",
   "execution_count": 4,
   "metadata": {},
   "outputs": [
    {
     "data": {
      "text/plain": [
       "10+ years    2332\n",
       "2 years       705\n",
       "3 years       620\n",
       "< 1 year      563\n",
       "5 years       516\n",
       "1 year        504\n",
       "4 years       469\n",
       "6 years       426\n",
       "7 years       396\n",
       "8 years       339\n",
       "9 years       259\n",
       "Name: Years in current job, dtype: int64"
      ]
     },
     "execution_count": 4,
     "metadata": {},
     "output_type": "execute_result"
    }
   ],
   "source": [
    "train['Years in current job'].value_counts()"
   ]
  },
  {
   "cell_type": "code",
   "execution_count": 5,
   "metadata": {},
   "outputs": [
    {
     "name": "stdout",
     "output_type": "stream",
     "text": [
      "Home Ownership                   object\n",
      "Annual Income                   float64\n",
      "Years in current job            float64\n",
      "Tax Liens                       float64\n",
      "Number of Open Accounts         float64\n",
      "Years of Credit History         float64\n",
      "Maximum Open Credit             float64\n",
      "Number of Credit Problems       float64\n",
      "Months since last delinquent    float64\n",
      "Bankruptcies                    float64\n",
      "Purpose                          object\n",
      "Term                             object\n",
      "Current Loan Amount             float64\n",
      "Current Credit Balance          float64\n",
      "Monthly Debt                    float64\n",
      "Credit Score                    float64\n",
      "Credit Default                    int64\n",
      "dtype: object\n",
      "************************************************************\n",
      "Home Ownership                   object\n",
      "Annual Income                   float64\n",
      "Years in current job            float64\n",
      "Tax Liens                       float64\n",
      "Number of Open Accounts         float64\n",
      "Years of Credit History         float64\n",
      "Maximum Open Credit             float64\n",
      "Number of Credit Problems       float64\n",
      "Months since last delinquent    float64\n",
      "Bankruptcies                    float64\n",
      "Purpose                          object\n",
      "Term                             object\n",
      "Current Loan Amount             float64\n",
      "Current Credit Balance          float64\n",
      "Monthly Debt                    float64\n",
      "Credit Score                    float64\n",
      "dtype: object\n"
     ]
    }
   ],
   "source": [
    "def types_prep(df):\n",
    "    \n",
    "    # делаем преобразование типа для признака Years in current job\n",
    "    level_map = {'< 1 year': 0, \n",
    "             '1 year': 1,\n",
    "             '2 years': 2,\n",
    "             '3 years': 3,\n",
    "             '4 years': 4,\n",
    "             '5 years': 5,\n",
    "             '6 years': 6,\n",
    "             '7 years': 7,\n",
    "             '8 years': 8,\n",
    "             '9 years': 9,\n",
    "             '10+ years': 10}\n",
    "\n",
    "    df['Years in current job'] = df['Years in current job'].map(level_map)\n",
    "    \n",
    "types_prep(train)\n",
    "types_prep(test)\n",
    "\n",
    "print(train.dtypes)\n",
    "print('*' * 60)\n",
    "print(test.dtypes)"
   ]
  },
  {
   "cell_type": "markdown",
   "metadata": {},
   "source": [
    "### Обработка пропусков"
   ]
  },
  {
   "cell_type": "code",
   "execution_count": 6,
   "metadata": {},
   "outputs": [
    {
     "data": {
      "text/plain": [
       "<AxesSubplot:>"
      ]
     },
     "execution_count": 6,
     "metadata": {},
     "output_type": "execute_result"
    },
    {
     "data": {
      "image/png": "[encoded data removed]",
      "text/plain": [
       "<Figure size 432x288 with 1 Axes>"
      ]
     },
     "metadata": {
      "needs_background": "light"
     },
     "output_type": "display_data"
    }
   ],
   "source": [
    "# Визуализируем пропуски на тренировочном датасете\n",
    "\n",
    "sns.heatmap(train.isnull(), yticklabels = False, cbar = False, cmap = 'Blues')"
   ]
  },
  {
   "cell_type": "code",
   "execution_count": 7,
   "metadata": {},
   "outputs": [
    {
     "data": {
      "text/plain": [
       "Home Ownership                     0\n",
       "Annual Income                   1557\n",
       "Years in current job             371\n",
       "Tax Liens                          0\n",
       "Number of Open Accounts            0\n",
       "Years of Credit History            0\n",
       "Maximum Open Credit                0\n",
       "Number of Credit Problems          0\n",
       "Months since last delinquent    4081\n",
       "Bankruptcies                      14\n",
       "Purpose                            0\n",
       "Term                               0\n",
       "Current Loan Amount                0\n",
       "Current Credit Balance             0\n",
       "Monthly Debt                       0\n",
       "Credit Score                    1557\n",
       "Credit Default                     0\n",
       "dtype: int64"
      ]
     },
     "execution_count": 7,
     "metadata": {},
     "output_type": "execute_result"
    }
   ],
   "source": [
    "train.isnull().sum()"
   ]
  },
  {
   "cell_type": "markdown",
   "metadata": {},
   "source": [
    "Интересное совпадение - при пропусках в \"Annual Income\" имеется ровно такое же количество пропусков в признаке \"Credit Score\"\n",
    "\n",
    "Credit score. Кредитный скоринг (от англ. score «оценка»; в т.ч. гл.) — система оценки кредитоспособности (кредитных рисков) лица, основанная на численных статистических методах. Как правило, используется в потребительском (магазинном) экспресс-кредитовании на небольшие суммы.\n",
    "\n",
    "На основе пропусков можно сделать вывод, что без информации о годовой доходе мы не можем оценить кредитоспособность клиента."
   ]
  },
  {
   "cell_type": "code",
   "execution_count": 8,
   "metadata": {},
   "outputs": [
    {
     "data": {
      "text/plain": [
       "<AxesSubplot:>"
      ]
     },
     "execution_count": 8,
     "metadata": {},
     "output_type": "execute_result"
    },
    {
     "data": {
      "image/png": "[encoded data removed]",
      "text/plain": [
       "<Figure size 432x288 with 1 Axes>"
      ]
     },
     "metadata": {
      "needs_background": "light"
     },
     "output_type": "display_data"
    }
   ],
   "source": [
    "# Визуализируем пропуски на тестовом датасете\n",
    "\n",
    "sns.heatmap(test.isnull(), yticklabels = False, cbar = False, cmap = 'Blues')"
   ]
  },
  {
   "cell_type": "code",
   "execution_count": 9,
   "metadata": {},
   "outputs": [
    {
     "data": {
      "text/plain": [
       "Home Ownership                     0\n",
       "Annual Income                    513\n",
       "Years in current job              86\n",
       "Tax Liens                          0\n",
       "Number of Open Accounts            0\n",
       "Years of Credit History            0\n",
       "Maximum Open Credit                0\n",
       "Number of Credit Problems          0\n",
       "Months since last delinquent    1358\n",
       "Bankruptcies                       3\n",
       "Purpose                            0\n",
       "Term                               0\n",
       "Current Loan Amount                0\n",
       "Current Credit Balance             0\n",
       "Monthly Debt                       0\n",
       "Credit Score                     513\n",
       "dtype: int64"
      ]
     },
     "execution_count": 9,
     "metadata": {},
     "output_type": "execute_result"
    }
   ],
   "source": [
    "test.isnull().sum()"
   ]
  },
  {
   "cell_type": "code",
   "execution_count": 10,
   "metadata": {},
   "outputs": [],
   "source": [
    "def clean_NAN(df):\n",
    "    df['Annual Income'].fillna(train['Annual Income'].median(), inplace=True)\n",
    "    df['Credit Score'].fillna(train['Credit Score'].median(), inplace=True)\n",
    "    df['Years in current job'].fillna(train['Years in current job'].median(), inplace=True)\n",
    "    df['Bankruptcies'].fillna(train['Bankruptcies'].median(), inplace=True)\n",
    "    df['Months since last delinquent'].fillna(train['Months since last delinquent'].median(), inplace=True)\n",
    "\n",
    "clean_NAN(train)\n",
    "clean_NAN(test)"
   ]
  },
  {
   "cell_type": "markdown",
   "metadata": {},
   "source": [
    "## ЭТАП 2. ВИЗУАЛИЗАЦИЯ ДАННЫХ"
   ]
  },
  {
   "cell_type": "markdown",
   "metadata": {},
   "source": [
    "#### Целевая переменная"
   ]
  },
  {
   "cell_type": "code",
   "execution_count": 11,
   "metadata": {},
   "outputs": [],
   "source": [
    "# разобьем выборку на тех, кто просрочил и на тех, кто заплатил вовремя\n",
    "\n",
    "no_default = train[train['Credit Default'] == 0]\n",
    "default = train[train['Credit Default'] == 1]"
   ]
  },
  {
   "cell_type": "code",
   "execution_count": 12,
   "metadata": {},
   "outputs": [
    {
     "name": "stdout",
     "output_type": "stream",
     "text": [
      "Всего =  7500 клиентов\n",
      "Количество клиентов, просрочившие платеж по кредиту =  2113\n",
      "% клиентов просрочившие платеж по кредиту =  28.173333333333332 %\n",
      "Количество клиентов, заплативших вовремя =  5387\n",
      "% клиентов, заплативших вовремя =  71.82666666666667 %\n"
     ]
    }
   ],
   "source": [
    "# Посчитаем, сколько человек и в каком процентном соотношении неоплатили кредит на тренировочном датасете\n",
    "\n",
    "print('Всего = ', len(train), 'клиентов')\n",
    "print('Количество клиентов, просрочившие платеж по кредиту = ', len(default))\n",
    "print('% клиентов просрочившие платеж по кредиту = ', 1.*len(default)/len(train) * 100, '%')\n",
    "\n",
    "print('Количество клиентов, заплативших вовремя = ', len(no_default))\n",
    "print('% клиентов, заплативших вовремя = ', 1.*len(no_default)/len(train) * 100, '%')"
   ]
  },
  {
   "cell_type": "markdown",
   "metadata": {},
   "source": [
    "Мы имеет дело с несбалансированным набором данных"
   ]
  },
  {
   "cell_type": "code",
   "execution_count": 13,
   "metadata": {},
   "outputs": [
    {
     "data": {
      "image/png": "[encoded data removed]",
      "text/plain": [
       "<Figure size 576x360 with 1 Axes>"
      ]
     },
     "metadata": {
      "needs_background": "light"
     },
     "output_type": "display_data"
    }
   ],
   "source": [
    "plt.figure(figsize=(8, 5))\n",
    "\n",
    "sns.countplot(x='Credit Default', data=train)\n",
    "\n",
    "plt.title('Target variable distribution')\n",
    "plt.show()"
   ]
  },
  {
   "cell_type": "markdown",
   "metadata": {},
   "source": [
    "#### Распределение категориальных признаков в зависимости от целевой переменной"
   ]
  },
  {
   "cell_type": "code",
   "execution_count": 14,
   "metadata": {},
   "outputs": [
    {
     "data": {
      "text/plain": [
       "<AxesSubplot:xlabel='Term', ylabel='count'>"
      ]
     },
     "execution_count": 14,
     "metadata": {},
     "output_type": "execute_result"
    },
    {
     "data": {
      "image/png": "[encoded data removed]",
      "text/plain": [
       "<Figure size 1440x1440 with 3 Axes>"
      ]
     },
     "metadata": {
      "needs_background": "light"
     },
     "output_type": "display_data"
    }
   ],
   "source": [
    "plt.figure(figsize=(20, 20))\n",
    "\n",
    "plt.subplot(411)\n",
    "sns.countplot(x='Home Ownership', hue='Credit Default', data=train)\n",
    "\n",
    "plt.subplot(412)\n",
    "sns.countplot(x='Purpose', hue='Credit Default', data=train)\n",
    "\n",
    "plt.subplot(413)\n",
    "sns.countplot(x='Term', hue='Credit Default', data=train)"
   ]
  },
  {
   "cell_type": "markdown",
   "metadata": {},
   "source": [
    "Большее количество клиентов берут кредит на короткий срок. И большая часть платит вовремя. Клиенты, которые берут кредит на длительный срок, имеют гораздо меньшую разницу по частоте вылаты/не выплаты суммы в срок. \n",
    "\n",
    "На этом основании можно сформировать гипотезу, что люди, берущие кредит на короткий срок с большей вероятностью выплатят сумму вовремя,чем клиенты, берущие кредит на длительный срок.\n",
    "\n",
    "В признаке Purpose очень много редких категорий. "
   ]
  },
  {
   "cell_type": "code",
   "execution_count": 15,
   "metadata": {},
   "outputs": [],
   "source": [
    "# В признаке Purpose оставим только \"debt consolidation\", \"other\", \"home improvement\", остальные объединим в одну\n",
    "def purpose_preprocess(df):\n",
    "    important_purpose = ['debt consolidation', 'other', 'home improvements']\n",
    "    df.loc[~df['Purpose'].isin(important_purpose), 'Purpose'] = 'rest'\n",
    "    \n",
    "purpose_preprocess(train)\n",
    "purpose_preprocess(test)"
   ]
  },
  {
   "cell_type": "markdown",
   "metadata": {},
   "source": [
    "### Создание новых признаков"
   ]
  },
  {
   "cell_type": "code",
   "execution_count": 16,
   "metadata": {},
   "outputs": [
    {
     "data": {
      "text/plain": [
       "<AxesSubplot:>"
      ]
     },
     "execution_count": 16,
     "metadata": {},
     "output_type": "execute_result"
    },
    {
     "data": {
      "image/png": "[encoded data removed]",
      "text/plain": [
       "<Figure size 1440x1440 with 2 Axes>"
      ]
     },
     "metadata": {
      "needs_background": "light"
     },
     "output_type": "display_data"
    }
   ],
   "source": [
    "correlations = train.corr()\n",
    "f, ax = plt.subplots(figsize = (20, 20))\n",
    "\n",
    "sns.heatmap(correlations, annot = True)"
   ]
  },
  {
   "cell_type": "markdown",
   "metadata": {},
   "source": [
    "Видны высокие корреляции между признаками:\n",
    "- Number of credit problems & Tax Liens\n",
    "- Current credit balance & Maximum Open Credit\n",
    "- Bunkruptcies & Number of credit problems\n",
    "- Monthly Debt & Annual Income\n",
    "- Monthly Debt & Current credit balance"
   ]
  },
  {
   "cell_type": "markdown",
   "metadata": {},
   "source": [
    "Признак Bankruptcies можно удалить, т.к. он сильно коррелирует с признаком Number of Credit Problems"
   ]
  },
  {
   "cell_type": "markdown",
   "metadata": {},
   "source": [
    "train_df = train_df.drop('Bankruptcies', axis=1)\n",
    "test_df = test_df.drop('Bankruptcies', axis=1)"
   ]
  },
  {
   "cell_type": "code",
   "execution_count": 17,
   "metadata": {},
   "outputs": [],
   "source": [
    "def code_mean(df, cat_feat, num_feat):\n",
    "    \"\"\"\n",
    "    Функция создает новый столбец с медианным значением в категории одного признака\n",
    "    \n",
    "    \"\"\"\n",
    "    return (df[cat_feat].map(train.groupby(cat_feat)[num_feat].median())) #сделала медианное значение от тренировочного датасета\n",
    "\n",
    "def new_feat(df):\n",
    "\n",
    "    # признак средний доход в зависимости от владения домом/квартирой\n",
    "    df['Home Ownership mean Annual Income'] = code_mean(df, 'Home Ownership', 'Annual Income')\n",
    "\n",
    "    # признак средняя месячная сумма платежа в зависимости от срока кредита\n",
    "    df['Term mean Monthly Debt'] = code_mean(df, 'Term', 'Monthly Debt')\n",
    "\n",
    "    # признак средняя текущая сумма кредита в зависимости от цели кредита\n",
    "    df['Purpose mean Current Loan Amount'] = code_mean(df, 'Purpose', 'Current Loan Amount')\n",
    "\n",
    "    # признак средняя текущая сумма кредита в зависимости от срока кредита\n",
    "    df['Term mean Current Loan Amount'] = code_mean(df, 'Term', 'Current Loan Amount')"
   ]
  },
  {
   "cell_type": "code",
   "execution_count": 18,
   "metadata": {},
   "outputs": [],
   "source": [
    "new_feat(train)\n",
    "new_feat(test)"
   ]
  },
  {
   "cell_type": "code",
   "execution_count": 19,
   "metadata": {},
   "outputs": [
    {
     "data": {
      "text/html": [
       "<div>\n",
       "<style scoped>\n",
       "    .dataframe tbody tr th:only-of-type {\n",
       "        vertical-align: middle;\n",
       "    }\n",
       "\n",
       "    .dataframe tbody tr th {\n",
       "        vertical-align: top;\n",
       "    }\n",
       "\n",
       "    .dataframe thead th {\n",
       "        text-align: right;\n",
       "    }\n",
       "</style>\n",
       "<table border=\"1\" class=\"dataframe\">\n",
       "  <thead>\n",
       "    <tr style=\"text-align: right;\">\n",
       "      <th></th>\n",
       "      <th>Home Ownership</th>\n",
       "      <th>Annual Income</th>\n",
       "      <th>Years in current job</th>\n",
       "      <th>Tax Liens</th>\n",
       "      <th>Number of Open Accounts</th>\n",
       "      <th>Years of Credit History</th>\n",
       "      <th>Maximum Open Credit</th>\n",
       "      <th>Number of Credit Problems</th>\n",
       "      <th>Months since last delinquent</th>\n",
       "      <th>Bankruptcies</th>\n",
       "      <th>...</th>\n",
       "      <th>Term</th>\n",
       "      <th>Current Loan Amount</th>\n",
       "      <th>Current Credit Balance</th>\n",
       "      <th>Monthly Debt</th>\n",
       "      <th>Credit Score</th>\n",
       "      <th>Credit Default</th>\n",
       "      <th>Home Ownership mean Annual Income</th>\n",
       "      <th>Term mean Monthly Debt</th>\n",
       "      <th>Purpose mean Current Loan Amount</th>\n",
       "      <th>Term mean Current Loan Amount</th>\n",
       "    </tr>\n",
       "  </thead>\n",
       "  <tbody>\n",
       "    <tr>\n",
       "      <th>0</th>\n",
       "      <td>Own Home</td>\n",
       "      <td>482087.0</td>\n",
       "      <td>6.0</td>\n",
       "      <td>0.0</td>\n",
       "      <td>11.0</td>\n",
       "      <td>26.3</td>\n",
       "      <td>685960.0</td>\n",
       "      <td>1.0</td>\n",
       "      <td>32.0</td>\n",
       "      <td>1.0</td>\n",
       "      <td>...</td>\n",
       "      <td>Short Term</td>\n",
       "      <td>99999999.0</td>\n",
       "      <td>47386.0</td>\n",
       "      <td>7914.0</td>\n",
       "      <td>749.0</td>\n",
       "      <td>0</td>\n",
       "      <td>1147448.0</td>\n",
       "      <td>15004.0</td>\n",
       "      <td>324104.0</td>\n",
       "      <td>250118.0</td>\n",
       "    </tr>\n",
       "    <tr>\n",
       "      <th>1</th>\n",
       "      <td>Own Home</td>\n",
       "      <td>1025487.0</td>\n",
       "      <td>10.0</td>\n",
       "      <td>0.0</td>\n",
       "      <td>15.0</td>\n",
       "      <td>15.3</td>\n",
       "      <td>1181730.0</td>\n",
       "      <td>0.0</td>\n",
       "      <td>32.0</td>\n",
       "      <td>0.0</td>\n",
       "      <td>...</td>\n",
       "      <td>Long Term</td>\n",
       "      <td>264968.0</td>\n",
       "      <td>394972.0</td>\n",
       "      <td>18373.0</td>\n",
       "      <td>737.0</td>\n",
       "      <td>1</td>\n",
       "      <td>1147448.0</td>\n",
       "      <td>19175.5</td>\n",
       "      <td>324104.0</td>\n",
       "      <td>437063.0</td>\n",
       "    </tr>\n",
       "    <tr>\n",
       "      <th>2</th>\n",
       "      <td>Home Mortgage</td>\n",
       "      <td>751412.0</td>\n",
       "      <td>8.0</td>\n",
       "      <td>0.0</td>\n",
       "      <td>11.0</td>\n",
       "      <td>35.0</td>\n",
       "      <td>1182434.0</td>\n",
       "      <td>0.0</td>\n",
       "      <td>32.0</td>\n",
       "      <td>0.0</td>\n",
       "      <td>...</td>\n",
       "      <td>Short Term</td>\n",
       "      <td>99999999.0</td>\n",
       "      <td>308389.0</td>\n",
       "      <td>13651.0</td>\n",
       "      <td>742.0</td>\n",
       "      <td>0</td>\n",
       "      <td>1168519.0</td>\n",
       "      <td>15004.0</td>\n",
       "      <td>324104.0</td>\n",
       "      <td>250118.0</td>\n",
       "    </tr>\n",
       "    <tr>\n",
       "      <th>3</th>\n",
       "      <td>Own Home</td>\n",
       "      <td>805068.0</td>\n",
       "      <td>6.0</td>\n",
       "      <td>0.0</td>\n",
       "      <td>8.0</td>\n",
       "      <td>22.5</td>\n",
       "      <td>147400.0</td>\n",
       "      <td>1.0</td>\n",
       "      <td>32.0</td>\n",
       "      <td>1.0</td>\n",
       "      <td>...</td>\n",
       "      <td>Short Term</td>\n",
       "      <td>121396.0</td>\n",
       "      <td>95855.0</td>\n",
       "      <td>11338.0</td>\n",
       "      <td>694.0</td>\n",
       "      <td>0</td>\n",
       "      <td>1147448.0</td>\n",
       "      <td>15004.0</td>\n",
       "      <td>324104.0</td>\n",
       "      <td>250118.0</td>\n",
       "    </tr>\n",
       "    <tr>\n",
       "      <th>4</th>\n",
       "      <td>Rent</td>\n",
       "      <td>776264.0</td>\n",
       "      <td>8.0</td>\n",
       "      <td>0.0</td>\n",
       "      <td>13.0</td>\n",
       "      <td>13.6</td>\n",
       "      <td>385836.0</td>\n",
       "      <td>1.0</td>\n",
       "      <td>32.0</td>\n",
       "      <td>0.0</td>\n",
       "      <td>...</td>\n",
       "      <td>Short Term</td>\n",
       "      <td>125840.0</td>\n",
       "      <td>93309.0</td>\n",
       "      <td>7180.0</td>\n",
       "      <td>719.0</td>\n",
       "      <td>0</td>\n",
       "      <td>1168386.0</td>\n",
       "      <td>15004.0</td>\n",
       "      <td>324104.0</td>\n",
       "      <td>250118.0</td>\n",
       "    </tr>\n",
       "  </tbody>\n",
       "</table>\n",
       "<p>5 rows × 21 columns</p>\n",
       "</div>"
      ],
      "text/plain": [
       "  Home Ownership  Annual Income  Years in current job  Tax Liens  \\\n",
       "0       Own Home       482087.0                   6.0        0.0   \n",
       "1       Own Home      1025487.0                  10.0        0.0   \n",
       "2  Home Mortgage       751412.0                   8.0        0.0   \n",
       "3       Own Home       805068.0                   6.0        0.0   \n",
       "4           Rent       776264.0                   8.0        0.0   \n",
       "\n",
       "   Number of Open Accounts  Years of Credit History  Maximum Open Credit  \\\n",
       "0                     11.0                     26.3             685960.0   \n",
       "1                     15.0                     15.3            1181730.0   \n",
       "2                     11.0                     35.0            1182434.0   \n",
       "3                      8.0                     22.5             147400.0   \n",
       "4                     13.0                     13.6             385836.0   \n",
       "\n",
       "   Number of Credit Problems  Months since last delinquent  Bankruptcies  ...  \\\n",
       "0                        1.0                          32.0           1.0  ...   \n",
       "1                        0.0                          32.0           0.0  ...   \n",
       "2                        0.0                          32.0           0.0  ...   \n",
       "3                        1.0                          32.0           1.0  ...   \n",
       "4                        1.0                          32.0           0.0  ...   \n",
       "\n",
       "         Term Current Loan Amount  Current Credit Balance  Monthly Debt  \\\n",
       "0  Short Term          99999999.0                 47386.0        7914.0   \n",
       "1   Long Term            264968.0                394972.0       18373.0   \n",
       "2  Short Term          99999999.0                308389.0       13651.0   \n",
       "3  Short Term            121396.0                 95855.0       11338.0   \n",
       "4  Short Term            125840.0                 93309.0        7180.0   \n",
       "\n",
       "   Credit Score  Credit Default  Home Ownership mean Annual Income  \\\n",
       "0         749.0               0                          1147448.0   \n",
       "1         737.0               1                          1147448.0   \n",
       "2         742.0               0                          1168519.0   \n",
       "3         694.0               0                          1147448.0   \n",
       "4         719.0               0                          1168386.0   \n",
       "\n",
       "   Term mean Monthly Debt  Purpose mean Current Loan Amount  \\\n",
       "0                 15004.0                          324104.0   \n",
       "1                 19175.5                          324104.0   \n",
       "2                 15004.0                          324104.0   \n",
       "3                 15004.0                          324104.0   \n",
       "4                 15004.0                          324104.0   \n",
       "\n",
       "   Term mean Current Loan Amount  \n",
       "0                       250118.0  \n",
       "1                       437063.0  \n",
       "2                       250118.0  \n",
       "3                       250118.0  \n",
       "4                       250118.0  \n",
       "\n",
       "[5 rows x 21 columns]"
      ]
     },
     "execution_count": 19,
     "metadata": {},
     "output_type": "execute_result"
    }
   ],
   "source": [
    "train.head()"
   ]
  },
  {
   "cell_type": "markdown",
   "metadata": {},
   "source": [
    "#### Корреляции с целевым признаком"
   ]
  },
  {
   "cell_type": "code",
   "execution_count": 20,
   "metadata": {},
   "outputs": [
    {
     "data": {
      "text/plain": [
       "Index(['Home Ownership', 'Annual Income', 'Years in current job', 'Tax Liens',\n",
       "       'Number of Open Accounts', 'Years of Credit History',\n",
       "       'Maximum Open Credit', 'Number of Credit Problems',\n",
       "       'Months since last delinquent', 'Bankruptcies', 'Purpose', 'Term',\n",
       "       'Current Loan Amount', 'Current Credit Balance', 'Monthly Debt',\n",
       "       'Credit Score', 'Credit Default', 'Home Ownership mean Annual Income',\n",
       "       'Term mean Monthly Debt', 'Purpose mean Current Loan Amount',\n",
       "       'Term mean Current Loan Amount'],\n",
       "      dtype='object')"
      ]
     },
     "execution_count": 20,
     "metadata": {},
     "output_type": "execute_result"
    }
   ],
   "source": [
    "train.columns"
   ]
  },
  {
   "cell_type": "code",
   "execution_count": 21,
   "metadata": {},
   "outputs": [],
   "source": [
    "# Поставила Credit Default на последнее место для удобства\n",
    "\n",
    "train = train[['Annual Income',\n",
    " 'Years in current job',\n",
    " 'Number of Open Accounts',\n",
    " 'Years of Credit History',\n",
    " 'Months since last delinquent',\n",
    " 'Maximum Open Credit',\n",
    " 'Number of Credit Problems',\n",
    " 'Bankruptcies',\n",
    " 'Current Loan Amount',\n",
    " 'Current Credit Balance',\n",
    " 'Monthly Debt',\n",
    " 'Credit Score',\n",
    " 'Home Ownership',\n",
    " 'Tax Liens',\n",
    " 'Purpose',\n",
    " 'Term',\n",
    " 'Home Ownership mean Annual Income',\n",
    " 'Term mean Monthly Debt',\n",
    " 'Purpose mean Current Loan Amount',\n",
    " 'Term mean Current Loan Amount',\n",
    " 'Credit Default']]"
   ]
  },
  {
   "cell_type": "code",
   "execution_count": 22,
   "metadata": {},
   "outputs": [
    {
     "data": {
      "image/png": "[encoded data removed]",
      "text/plain": [
       "<Figure size 720x576 with 1 Axes>"
      ]
     },
     "metadata": {
      "needs_background": "light"
     },
     "output_type": "display_data"
    }
   ],
   "source": [
    "corr_with_target = train.corr().iloc[:-1, -1].sort_values(ascending=False)\n",
    "\n",
    "plt.figure(figsize=(10, 8))\n",
    "\n",
    "sns.barplot(x=corr_with_target.values, y=corr_with_target.index)\n",
    "\n",
    "plt.title('Correlation with target variable')\n",
    "plt.show()"
   ]
  },
  {
   "cell_type": "markdown",
   "metadata": {},
   "source": [
    "Наиболее выраженные корреляции с признаками: \n",
    "- Term mean Monthly Debt\n",
    "- Term mean Current Loan Amount\n",
    "- Current Loan Amount\n",
    "- Maximum Open Credit\n",
    "- Annual Income\n",
    "- Credit Score"
   ]
  },
  {
   "cell_type": "markdown",
   "metadata": {},
   "source": [
    "#### Кодирование категориальных признаков"
   ]
  },
  {
   "cell_type": "code",
   "execution_count": 24,
   "metadata": {},
   "outputs": [
    {
     "data": {
      "text/plain": [
       "Home Mortgage    3637\n",
       "Rent             3204\n",
       "Own Home          647\n",
       "Have Mortgage      12\n",
       "Name: Home Ownership, dtype: int64"
      ]
     },
     "execution_count": 24,
     "metadata": {},
     "output_type": "execute_result"
    }
   ],
   "source": [
    "train['Home Ownership'].value_counts()"
   ]
  },
  {
   "cell_type": "code",
   "execution_count": 25,
   "metadata": {},
   "outputs": [
    {
     "data": {
      "text/plain": [
       "debt consolidation    5944\n",
       "other                  665\n",
       "rest                   479\n",
       "home improvements      412\n",
       "Name: Purpose, dtype: int64"
      ]
     },
     "execution_count": 25,
     "metadata": {},
     "output_type": "execute_result"
    }
   ],
   "source": [
    "train['Purpose'].value_counts()"
   ]
  },
  {
   "cell_type": "code",
   "execution_count": 26,
   "metadata": {},
   "outputs": [
    {
     "data": {
      "text/plain": [
       "Short Term    5556\n",
       "Long Term     1944\n",
       "Name: Term, dtype: int64"
      ]
     },
     "execution_count": 26,
     "metadata": {},
     "output_type": "execute_result"
    }
   ],
   "source": [
    "train['Term'].value_counts()"
   ]
  },
  {
   "cell_type": "code",
   "execution_count": 27,
   "metadata": {},
   "outputs": [],
   "source": [
    "def cat_feat_prep(df):\n",
    "    \n",
    "    # делаем преобразование типа для признака Home Ownership\n",
    "    level_map_ho = {'Home Mortgage': 0, 'Rent': 1, 'Own Home': 2, 'Have Mortgage': 3}\n",
    "    df['Home Ownership'] = df['Home Ownership'].map(level_map_ho)\n",
    "    \n",
    "    # делаем преобразование типа для признака Purpose\n",
    "    level_map_p = {'debt consolidation': 0, 'other': 1, 'rest': 2, 'home improvements': 3}\n",
    "    df['Purpose'] = df['Purpose'].map(level_map_p)\n",
    "    \n",
    "    # делаем преобразование типа для признака Term\n",
    "    level_map_t = {'Short Term': 0, 'Long Term': 1}\n",
    "    df['Term'] = df['Term'].map(level_map_t)    "
   ]
  },
  {
   "cell_type": "code",
   "execution_count": 28,
   "metadata": {},
   "outputs": [
    {
     "data": {
      "text/html": [
       "<div>\n",
       "<style scoped>\n",
       "    .dataframe tbody tr th:only-of-type {\n",
       "        vertical-align: middle;\n",
       "    }\n",
       "\n",
       "    .dataframe tbody tr th {\n",
       "        vertical-align: top;\n",
       "    }\n",
       "\n",
       "    .dataframe thead th {\n",
       "        text-align: right;\n",
       "    }\n",
       "</style>\n",
       "<table border=\"1\" class=\"dataframe\">\n",
       "  <thead>\n",
       "    <tr style=\"text-align: right;\">\n",
       "      <th></th>\n",
       "      <th>Annual Income</th>\n",
       "      <th>Years in current job</th>\n",
       "      <th>Number of Open Accounts</th>\n",
       "      <th>Years of Credit History</th>\n",
       "      <th>Months since last delinquent</th>\n",
       "      <th>Maximum Open Credit</th>\n",
       "      <th>Number of Credit Problems</th>\n",
       "      <th>Bankruptcies</th>\n",
       "      <th>Current Loan Amount</th>\n",
       "      <th>Current Credit Balance</th>\n",
       "      <th>...</th>\n",
       "      <th>Credit Score</th>\n",
       "      <th>Home Ownership</th>\n",
       "      <th>Tax Liens</th>\n",
       "      <th>Purpose</th>\n",
       "      <th>Term</th>\n",
       "      <th>Home Ownership mean Annual Income</th>\n",
       "      <th>Term mean Monthly Debt</th>\n",
       "      <th>Purpose mean Current Loan Amount</th>\n",
       "      <th>Term mean Current Loan Amount</th>\n",
       "      <th>Credit Default</th>\n",
       "    </tr>\n",
       "  </thead>\n",
       "  <tbody>\n",
       "    <tr>\n",
       "      <th>0</th>\n",
       "      <td>482087.0</td>\n",
       "      <td>6.0</td>\n",
       "      <td>11.0</td>\n",
       "      <td>26.3</td>\n",
       "      <td>32.0</td>\n",
       "      <td>685960.0</td>\n",
       "      <td>1.0</td>\n",
       "      <td>1.0</td>\n",
       "      <td>99999999.0</td>\n",
       "      <td>47386.0</td>\n",
       "      <td>...</td>\n",
       "      <td>749.0</td>\n",
       "      <td>2</td>\n",
       "      <td>0.0</td>\n",
       "      <td>0</td>\n",
       "      <td>0</td>\n",
       "      <td>1147448.0</td>\n",
       "      <td>15004.0</td>\n",
       "      <td>324104.0</td>\n",
       "      <td>250118.0</td>\n",
       "      <td>0</td>\n",
       "    </tr>\n",
       "    <tr>\n",
       "      <th>1</th>\n",
       "      <td>1025487.0</td>\n",
       "      <td>10.0</td>\n",
       "      <td>15.0</td>\n",
       "      <td>15.3</td>\n",
       "      <td>32.0</td>\n",
       "      <td>1181730.0</td>\n",
       "      <td>0.0</td>\n",
       "      <td>0.0</td>\n",
       "      <td>264968.0</td>\n",
       "      <td>394972.0</td>\n",
       "      <td>...</td>\n",
       "      <td>737.0</td>\n",
       "      <td>2</td>\n",
       "      <td>0.0</td>\n",
       "      <td>0</td>\n",
       "      <td>1</td>\n",
       "      <td>1147448.0</td>\n",
       "      <td>19175.5</td>\n",
       "      <td>324104.0</td>\n",
       "      <td>437063.0</td>\n",
       "      <td>1</td>\n",
       "    </tr>\n",
       "    <tr>\n",
       "      <th>2</th>\n",
       "      <td>751412.0</td>\n",
       "      <td>8.0</td>\n",
       "      <td>11.0</td>\n",
       "      <td>35.0</td>\n",
       "      <td>32.0</td>\n",
       "      <td>1182434.0</td>\n",
       "      <td>0.0</td>\n",
       "      <td>0.0</td>\n",
       "      <td>99999999.0</td>\n",
       "      <td>308389.0</td>\n",
       "      <td>...</td>\n",
       "      <td>742.0</td>\n",
       "      <td>0</td>\n",
       "      <td>0.0</td>\n",
       "      <td>0</td>\n",
       "      <td>0</td>\n",
       "      <td>1168519.0</td>\n",
       "      <td>15004.0</td>\n",
       "      <td>324104.0</td>\n",
       "      <td>250118.0</td>\n",
       "      <td>0</td>\n",
       "    </tr>\n",
       "    <tr>\n",
       "      <th>3</th>\n",
       "      <td>805068.0</td>\n",
       "      <td>6.0</td>\n",
       "      <td>8.0</td>\n",
       "      <td>22.5</td>\n",
       "      <td>32.0</td>\n",
       "      <td>147400.0</td>\n",
       "      <td>1.0</td>\n",
       "      <td>1.0</td>\n",
       "      <td>121396.0</td>\n",
       "      <td>95855.0</td>\n",
       "      <td>...</td>\n",
       "      <td>694.0</td>\n",
       "      <td>2</td>\n",
       "      <td>0.0</td>\n",
       "      <td>0</td>\n",
       "      <td>0</td>\n",
       "      <td>1147448.0</td>\n",
       "      <td>15004.0</td>\n",
       "      <td>324104.0</td>\n",
       "      <td>250118.0</td>\n",
       "      <td>0</td>\n",
       "    </tr>\n",
       "    <tr>\n",
       "      <th>4</th>\n",
       "      <td>776264.0</td>\n",
       "      <td>8.0</td>\n",
       "      <td>13.0</td>\n",
       "      <td>13.6</td>\n",
       "      <td>32.0</td>\n",
       "      <td>385836.0</td>\n",
       "      <td>1.0</td>\n",
       "      <td>0.0</td>\n",
       "      <td>125840.0</td>\n",
       "      <td>93309.0</td>\n",
       "      <td>...</td>\n",
       "      <td>719.0</td>\n",
       "      <td>1</td>\n",
       "      <td>0.0</td>\n",
       "      <td>0</td>\n",
       "      <td>0</td>\n",
       "      <td>1168386.0</td>\n",
       "      <td>15004.0</td>\n",
       "      <td>324104.0</td>\n",
       "      <td>250118.0</td>\n",
       "      <td>0</td>\n",
       "    </tr>\n",
       "  </tbody>\n",
       "</table>\n",
       "<p>5 rows × 21 columns</p>\n",
       "</div>"
      ],
      "text/plain": [
       "   Annual Income  Years in current job  Number of Open Accounts  \\\n",
       "0       482087.0                   6.0                     11.0   \n",
       "1      1025487.0                  10.0                     15.0   \n",
       "2       751412.0                   8.0                     11.0   \n",
       "3       805068.0                   6.0                      8.0   \n",
       "4       776264.0                   8.0                     13.0   \n",
       "\n",
       "   Years of Credit History  Months since last delinquent  Maximum Open Credit  \\\n",
       "0                     26.3                          32.0             685960.0   \n",
       "1                     15.3                          32.0            1181730.0   \n",
       "2                     35.0                          32.0            1182434.0   \n",
       "3                     22.5                          32.0             147400.0   \n",
       "4                     13.6                          32.0             385836.0   \n",
       "\n",
       "   Number of Credit Problems  Bankruptcies  Current Loan Amount  \\\n",
       "0                        1.0           1.0           99999999.0   \n",
       "1                        0.0           0.0             264968.0   \n",
       "2                        0.0           0.0           99999999.0   \n",
       "3                        1.0           1.0             121396.0   \n",
       "4                        1.0           0.0             125840.0   \n",
       "\n",
       "   Current Credit Balance  ...  Credit Score  Home Ownership  Tax Liens  \\\n",
       "0                 47386.0  ...         749.0               2        0.0   \n",
       "1                394972.0  ...         737.0               2        0.0   \n",
       "2                308389.0  ...         742.0               0        0.0   \n",
       "3                 95855.0  ...         694.0               2        0.0   \n",
       "4                 93309.0  ...         719.0               1        0.0   \n",
       "\n",
       "   Purpose  Term  Home Ownership mean Annual Income  Term mean Monthly Debt  \\\n",
       "0        0     0                          1147448.0                 15004.0   \n",
       "1        0     1                          1147448.0                 19175.5   \n",
       "2        0     0                          1168519.0                 15004.0   \n",
       "3        0     0                          1147448.0                 15004.0   \n",
       "4        0     0                          1168386.0                 15004.0   \n",
       "\n",
       "   Purpose mean Current Loan Amount  Term mean Current Loan Amount  \\\n",
       "0                          324104.0                       250118.0   \n",
       "1                          324104.0                       437063.0   \n",
       "2                          324104.0                       250118.0   \n",
       "3                          324104.0                       250118.0   \n",
       "4                          324104.0                       250118.0   \n",
       "\n",
       "   Credit Default  \n",
       "0               0  \n",
       "1               1  \n",
       "2               0  \n",
       "3               0  \n",
       "4               0  \n",
       "\n",
       "[5 rows x 21 columns]"
      ]
     },
     "execution_count": 28,
     "metadata": {},
     "output_type": "execute_result"
    }
   ],
   "source": [
    "cat_feat_prep(train)\n",
    "cat_feat_prep(test)\n",
    "\n",
    "train.head()"
   ]
  },
  {
   "cell_type": "markdown",
   "metadata": {},
   "source": [
    "#### Разбиваем выборку на train и valid "
   ]
  },
  {
   "cell_type": "code",
   "execution_count": 29,
   "metadata": {},
   "outputs": [],
   "source": [
    "X = train.drop('Credit Default', axis=1)\n",
    "y = train['Credit Default']"
   ]
  },
  {
   "cell_type": "code",
   "execution_count": 30,
   "metadata": {},
   "outputs": [],
   "source": [
    "X_test = test.copy()"
   ]
  },
  {
   "cell_type": "code",
   "execution_count": 31,
   "metadata": {},
   "outputs": [],
   "source": [
    "X_train, X_valid, y_train, y_valid = train_test_split(X, y, shuffle=True, test_size=0.3, random_state=21)"
   ]
  },
  {
   "cell_type": "markdown",
   "metadata": {},
   "source": [
    "### Балансировка целевой переменной"
   ]
  },
  {
   "cell_type": "code",
   "execution_count": 32,
   "metadata": {},
   "outputs": [],
   "source": [
    "# Oversampling\n",
    "\n",
    "sm = SMOTE(random_state = 2)\n",
    "\n",
    "X_train, y_train = sm.fit_sample(X_train, y_train)"
   ]
  },
  {
   "cell_type": "markdown",
   "metadata": {},
   "source": [
    "### LightGBM"
   ]
  },
  {
   "cell_type": "code",
   "execution_count": 33,
   "metadata": {},
   "outputs": [],
   "source": [
    "def get_classification_report(y_train_true, y_train_pred, y_test_true, y_test_pred):\n",
    "    print('TRAIN\\n\\n' + classification_report(y_train_true, y_train_pred))\n",
    "    print('TEST\\n\\n' + classification_report(y_test_true, y_test_pred))\n",
    "    print('CONFUSION MATRIX\\n')\n",
    "    print(pd.crosstab(y_test_true, y_test_pred))"
   ]
  },
  {
   "cell_type": "code",
   "execution_count": 34,
   "metadata": {},
   "outputs": [],
   "source": [
    "def show_proba_calibration_plots(y_predicted_probs, y_true_labels):\n",
    "    preds_with_true_labels = np.array(list(zip(y_predicted_probs, y_true_labels)))\n",
    "\n",
    "    thresholds = []\n",
    "    precisions = []\n",
    "    recalls = []\n",
    "    f1_scores = []\n",
    "\n",
    "    for threshold in np.linspace(0.1, 0.9, 9):\n",
    "        thresholds.append(threshold)\n",
    "        precisions.append(precision_score(y_true_labels, list(map(int, y_predicted_probs > threshold))))\n",
    "        recalls.append(recall_score(y_true_labels, list(map(int, y_predicted_probs > threshold))))\n",
    "        f1_scores.append(f1_score(y_true_labels, list(map(int, y_predicted_probs > threshold))))\n",
    "\n",
    "    scores_table = pd.DataFrame({'f1':f1_scores,\n",
    "                                 'precision':precisions,\n",
    "                                 'recall':recalls,\n",
    "                                 'probability':thresholds}).sort_values('f1', ascending=False).round(3)\n",
    "      \n",
    "    figure = plt.figure(figsize = (15, 5))\n",
    "\n",
    "    plt1 = figure.add_subplot(121)\n",
    "    plt1.axhline(0.5, color=\"red\")\n",
    "    plt1.plot(thresholds, precisions, label='Precision', linewidth=4)\n",
    "    plt1.plot(thresholds, recalls, label='Recall', linewidth=4)\n",
    "    plt1.plot(thresholds, f1_scores, label='F1', linewidth=4)\n",
    "    plt1.set_ylabel('Scores')\n",
    "    plt1.set_xlabel('Probability threshold')\n",
    "    plt1.set_title('Probabilities threshold calibration')\n",
    "    plt1.legend(bbox_to_anchor=(0.25, 0.25))   \n",
    "    plt1.table(cellText = scores_table.values,\n",
    "               colLabels = scores_table.columns, \n",
    "               colLoc = 'center', cellLoc = 'center', loc = 'bottom', bbox = [0, -1.3, 1, 1])\n",
    "\n",
    "    plt2 = figure.add_subplot(122)\n",
    "    plt2.hist(preds_with_true_labels[preds_with_true_labels[:, 1] == 0][:, 0], \n",
    "              label='Another class', color='royalblue', alpha=0.5)\n",
    "    plt2.hist(preds_with_true_labels[preds_with_true_labels[:, 1] == 1][:, 0], \n",
    "              label='Main class', color='darkcyan', alpha=0.8)\n",
    "    plt2.set_ylabel('Number of examples')\n",
    "    plt2.set_xlabel('Probabilities')\n",
    "    plt2.set_title('Probability histogram')\n",
    "    plt2.legend(bbox_to_anchor=(1, 1))\n",
    "\n",
    "    plt.show()"
   ]
  },
  {
   "cell_type": "code",
   "execution_count": 35,
   "metadata": {},
   "outputs": [],
   "source": [
    "def show_feature_importances(feature_names, feature_importances, get_top=None):\n",
    "    feature_importances = pd.DataFrame({'feature': feature_names, 'importance': feature_importances})\n",
    "    feature_importances = feature_importances.sort_values('importance', ascending=False)\n",
    "       \n",
    "    plt.figure(figsize = (14, len(feature_importances) * 0.355))\n",
    "    \n",
    "    sns.barplot(feature_importances['importance'], feature_importances['feature'])\n",
    "    \n",
    "    plt.xlabel('Importance')\n",
    "    plt.title('Importance of features')\n",
    "    plt.show()\n",
    "\n",
    "    if get_top is not None:\n",
    "        return feature_importances['feature'][:get_top].tolist()"
   ]
  },
  {
   "cell_type": "code",
   "execution_count": 36,
   "metadata": {},
   "outputs": [
    {
     "name": "stdout",
     "output_type": "stream",
     "text": [
      "TRAIN\n",
      "\n",
      "              precision    recall  f1-score   support\n",
      "\n",
      "           0       0.77      0.90      0.83      3771\n",
      "           1       0.88      0.73      0.80      3771\n",
      "\n",
      "    accuracy                           0.82      7542\n",
      "   macro avg       0.83      0.82      0.81      7542\n",
      "weighted avg       0.83      0.82      0.81      7542\n",
      "\n",
      "TEST\n",
      "\n",
      "              precision    recall  f1-score   support\n",
      "\n",
      "           0       0.79      0.88      0.84      1616\n",
      "           1       0.58      0.41      0.48       634\n",
      "\n",
      "    accuracy                           0.75      2250\n",
      "   macro avg       0.69      0.65      0.66      2250\n",
      "weighted avg       0.73      0.75      0.74      2250\n",
      "\n",
      "CONFUSION MATRIX\n",
      "\n",
      "col_0              0    1\n",
      "Credit Default           \n",
      "0               1426  190\n",
      "1                373  261\n"
     ]
    }
   ],
   "source": [
    "model_lgbm = lgbm.LGBMClassifier(max_depth=6, learning_rate=0.1, n_estimators=40, reg_alpha=10, \n",
    "                                 random_state=21, num_leaves=10)\n",
    "model_lgbm.fit(X_train, y_train)\n",
    "\n",
    "y_train_pred = model_lgbm.predict(X_train)\n",
    "y_valid_pred = model_lgbm.predict(X_valid)\n",
    "\n",
    "get_classification_report(y_train, y_train_pred, y_valid, y_valid_pred)"
   ]
  },
  {
   "cell_type": "code",
   "execution_count": 37,
   "metadata": {},
   "outputs": [
    {
     "data": {
      "image/png": "[encoded data removed]",
      "text/plain": [
       "<Figure size 1008x511.2 with 1 Axes>"
      ]
     },
     "metadata": {
      "needs_background": "light"
     },
     "output_type": "display_data"
    }
   ],
   "source": [
    "important_features_top = show_feature_importances(X_train.columns, \n",
    "                                                 model_lgbm.feature_importances_, \n",
    "                                                  get_top=15)"
   ]
  },
  {
   "cell_type": "markdown",
   "metadata": {},
   "source": [
    "### Финальная модель<a class=\"anchor\" id=\"final_model\"></a>"
   ]
  },
  {
   "cell_type": "code",
   "execution_count": 38,
   "metadata": {},
   "outputs": [
    {
     "name": "stderr",
     "output_type": "stream",
     "text": [
      "C:\\Users\\lenas\\Anaconda3\\lib\\site-packages\\lightgbm\\engine.py:151: UserWarning: Found `num_iterations` in params. Will use it instead of argument\n",
      "  warnings.warn(\"Found `{}` in params. Will use it instead of argument\".format(alias))\n"
     ]
    },
    {
     "name": "stdout",
     "output_type": "stream",
     "text": [
      "[LightGBM] [Warning] feature_fraction is set=0.6, colsample_bytree=1.0 will be ignored. Current value: feature_fraction=0.6\n",
      "[LightGBM] [Warning] bagging_fraction is set=0.5, subsample=1.0 will be ignored. Current value: bagging_fraction=0.5\n",
      "TRAIN\n",
      "\n",
      "              precision    recall  f1-score   support\n",
      "\n",
      "           0       0.78      1.00      0.87      5387\n",
      "           1       0.96      0.27      0.42      2113\n",
      "\n",
      "    accuracy                           0.79      7500\n",
      "   macro avg       0.87      0.63      0.64      7500\n",
      "weighted avg       0.83      0.79      0.74      7500\n",
      "\n",
      "TEST\n",
      "\n",
      "              precision    recall  f1-score   support\n",
      "\n",
      "           0       0.77      0.99      0.87      1616\n",
      "           1       0.94      0.26      0.41       634\n",
      "\n",
      "    accuracy                           0.79      2250\n",
      "   macro avg       0.86      0.63      0.64      2250\n",
      "weighted avg       0.82      0.79      0.74      2250\n",
      "\n",
      "CONFUSION MATRIX\n",
      "\n",
      "col_0              0    1\n",
      "Credit Default           \n",
      "0               1605   11\n",
      "1                466  168\n"
     ]
    }
   ],
   "source": [
    "final_model = lgbm.LGBMClassifier(max_depth=8, learning_rate=0.1, n_estimators=10, reg_alpha=0.1, \n",
    "                                 random_state=21, num_leaves=20, num_iterations=20, bagging_fraction=0.5,\n",
    "                                 feature_fraction=0.6)\n",
    "                                 \n",
    "final_model.fit(X[important_features_top], y)\n",
    "\n",
    "y_train_pred = final_model.predict(X[important_features_top])\n",
    "y_valid_pred = final_model.predict(X_valid[important_features_top])\n",
    "y_valid_pred_probs = final_model.predict_proba(X_valid[important_features_top])\n",
    "\n",
    "get_classification_report(y, y_train_pred, y_valid, y_valid_pred)"
   ]
  },
  {
   "cell_type": "code",
   "execution_count": 39,
   "metadata": {},
   "outputs": [
    {
     "name": "stderr",
     "output_type": "stream",
     "text": [
      "C:\\Users\\lenas\\Anaconda3\\lib\\site-packages\\sklearn\\metrics\\_classification.py:1245: UndefinedMetricWarning: Precision is ill-defined and being set to 0.0 due to no predicted samples. Use `zero_division` parameter to control this behavior.\n",
      "  _warn_prf(average, modifier, msg_start, len(result))\n"
     ]
    },
    {
     "data": {
      "image/png": "[encoded data removed]",
      "text/plain": [
       "<Figure size 1080x360 with 2 Axes>"
      ]
     },
     "metadata": {
      "needs_background": "light"
     },
     "output_type": "display_data"
    }
   ],
   "source": [
    "show_proba_calibration_plots(y_valid_pred_probs[:, 1], y_valid)"
   ]
  },
  {
   "cell_type": "markdown",
   "metadata": {},
   "source": [
    "Подберем наилучший порог вероятности отнесения к целевому классу"
   ]
  },
  {
   "cell_type": "code",
   "execution_count": 40,
   "metadata": {},
   "outputs": [
    {
     "name": "stdout",
     "output_type": "stream",
     "text": [
      "TRAIN\n",
      "\n",
      "              precision    recall  f1-score   support\n",
      "\n",
      "           0       0.78      1.00      0.87      5387\n",
      "           1       0.96      0.27      0.42      2113\n",
      "\n",
      "    accuracy                           0.79      7500\n",
      "   macro avg       0.87      0.63      0.64      7500\n",
      "weighted avg       0.83      0.79      0.74      7500\n",
      "\n",
      "TEST\n",
      "\n",
      "              precision    recall  f1-score   support\n",
      "\n",
      "           0       0.85      0.82      0.83      1616\n",
      "           1       0.58      0.63      0.61       634\n",
      "\n",
      "    accuracy                           0.77      2250\n",
      "   macro avg       0.72      0.73      0.72      2250\n",
      "weighted avg       0.77      0.77      0.77      2250\n",
      "\n",
      "CONFUSION MATRIX\n",
      "\n",
      "col_0              0    1\n",
      "Credit Default           \n",
      "0               1324  292\n",
      "1                232  402\n"
     ]
    }
   ],
   "source": [
    "y_valid_labels = np.array(y_valid_pred_probs[:, 1] > 0.30, dtype=int)\n",
    "get_classification_report(y, y_train_pred, y_valid, y_valid_labels)"
   ]
  },
  {
   "cell_type": "markdown",
   "metadata": {},
   "source": [
    "### Предсказание для тестового датасета и сохранение результатов"
   ]
  },
  {
   "cell_type": "code",
   "execution_count": 41,
   "metadata": {},
   "outputs": [],
   "source": [
    "y_test_pred_probs = final_model.predict_proba(X_test[important_features_top])"
   ]
  },
  {
   "cell_type": "code",
   "execution_count": 42,
   "metadata": {},
   "outputs": [],
   "source": [
    "y_test_pred = np.array(y_test_pred_probs[:, 1] > 0.30, dtype=int)"
   ]
  },
  {
   "cell_type": "code",
   "execution_count": 43,
   "metadata": {},
   "outputs": [],
   "source": [
    "X_test['Prediction'] = y_test_pred"
   ]
  },
  {
   "cell_type": "code",
   "execution_count": 44,
   "metadata": {},
   "outputs": [
    {
     "data": {
      "text/plain": [
       "0    1746\n",
       "1     754\n",
       "Name: Prediction, dtype: int64"
      ]
     },
     "execution_count": 44,
     "metadata": {},
     "output_type": "execute_result"
    }
   ],
   "source": [
    "X_test['Prediction'].value_counts()"
   ]
  },
  {
   "cell_type": "code",
   "execution_count": 45,
   "metadata": {},
   "outputs": [],
   "source": [
    "X_test['Prediction'].to_csv('ElenaShcherbakova_predictions.csv')"
   ]
  },
  {
   "cell_type": "code",
   "execution_count": null,
   "metadata": {},
   "outputs": [],
   "source": []
  }
 ],
 "metadata": {
  "kernelspec": {
   "display_name": "Python 3",
   "language": "python",
   "name": "python3"
  },
  "language_info": {
   "codemirror_mode": {
    "name": "ipython",
    "version": 3
   },
   "file_extension": ".py",
   "mimetype": "text/x-python",
   "name": "python",
   "nbconvert_exporter": "python",
   "pygments_lexer": "ipython3",
   "version": "3.7.4"
  }
 },
 "nbformat": 4,
 "nbformat_minor": 2
}
